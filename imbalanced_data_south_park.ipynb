{
  "nbformat": 4,
  "nbformat_minor": 0,
  "metadata": {
    "colab": {
      "name": "imbalanced data_south park.ipynb",
      "version": "0.3.2",
      "provenance": [],
      "collapsed_sections": []
    },
    "kernelspec": {
      "name": "python3",
      "display_name": "Python 3"
    }
  },
  "cells": [
    {
      "metadata": {
        "id": "bw3HELH7zzps",
        "colab_type": "text"
      },
      "cell_type": "markdown",
      "source": [
        "Вторая часть проекта. Несбалансированные данные."
      ]
    },
    {
      "metadata": {
        "id": "IMCqdlh-csnH",
        "colab_type": "code",
        "colab": {}
      },
      "cell_type": "code",
      "source": [
        "import pandas as pd\n",
        "import nltk\n",
        "from nltk.corpus import stopwords\n",
        "from nltk import word_tokenize\n",
        "import re\n",
        "from sklearn.feature_extraction.text import CountVectorizer\n",
        "from sklearn.feature_extraction import text\n",
        "from sklearn.feature_extraction.text import TfidfVectorizer\n",
        "from sklearn.metrics import classification_report"
      ],
      "execution_count": 0,
      "outputs": []
    },
    {
      "metadata": {
        "id": "9a1mfspmcvQQ",
        "colab_type": "code",
        "colab": {}
      },
      "cell_type": "code",
      "source": [
        "df = pd.read_csv('All-seasons.csv')"
      ],
      "execution_count": 0,
      "outputs": []
    },
    {
      "metadata": {
        "id": "dMLQOnilZ5-N",
        "colab_type": "code",
        "outputId": "daa84cb1-3167-4883-b598-ef65691571d0",
        "colab": {
          "base_uri": "https://localhost:8080/",
          "height": 208
        }
      },
      "cell_type": "code",
      "source": [
        "top_speakers = df.groupby(['Character']).size().loc[df.groupby(['Character']).size() > 800]\n",
        "print (top_speakers.sort_values(ascending=False))"
      ],
      "execution_count": 0,
      "outputs": [
        {
          "output_type": "stream",
          "text": [
            "Character\n",
            "Cartman         9774\n",
            "Stan            7680\n",
            "Kyle            7099\n",
            "Butters         2602\n",
            "Randy           2467\n",
            "Mr. Garrison    1002\n",
            "Chef             917\n",
            "Kenny            881\n",
            "Sharon           862\n",
            "dtype: int64\n"
          ],
          "name": "stdout"
        }
      ]
    },
    {
      "metadata": {
        "id": "uo2UKfsKaKr4",
        "colab_type": "code",
        "colab": {}
      },
      "cell_type": "code",
      "source": [
        "new_df = pd.DataFrame(df.loc[df['Character'].isin(top_speakers.index.values)])"
      ],
      "execution_count": 0,
      "outputs": []
    },
    {
      "metadata": {
        "id": "1_gk6vdVaQrq",
        "colab_type": "code",
        "colab": {}
      },
      "cell_type": "code",
      "source": [
        "X = new_df.Line\n",
        "y = new_df.Character"
      ],
      "execution_count": 0,
      "outputs": []
    },
    {
      "metadata": {
        "id": "c_9ti5smaj1I",
        "colab_type": "code",
        "colab": {}
      },
      "cell_type": "code",
      "source": [
        "from sklearn.model_selection import train_test_split\n",
        "X_train, X_test, y_train, y_test = train_test_split(X, y, random_state=1)"
      ],
      "execution_count": 0,
      "outputs": []
    },
    {
      "metadata": {
        "id": "GBYIMcB7w3Tu",
        "colab_type": "text"
      },
      "cell_type": "markdown",
      "source": [
        "Сначала смотрим на результаты логистической регрессии на изначальных неравномерных данных"
      ]
    },
    {
      "metadata": {
        "id": "Z4Tj4Z7yaVIy",
        "colab_type": "code",
        "outputId": "8e841197-fba5-45f8-d121-fd42d1d4f95d",
        "colab": {
          "base_uri": "https://localhost:8080/",
          "height": 349
        }
      },
      "cell_type": "code",
      "source": [
        "from imblearn.metrics import classification_report_imbalanced\n",
        "from sklearn.pipeline import make_pipeline\n",
        "pipe = make_pipeline(TfidfVectorizer(), LogisticRegression())\n",
        "pipe.fit(X_train, y_train)\n",
        "y_pred = pipe.predict(X_test)\n",
        "\n",
        "print(classification_report_imbalanced(y_test, y_pred))\n",
        "# обратим внимание на низкий recall у миноритарных классов"
      ],
      "execution_count": 0,
      "outputs": [
        {
          "output_type": "stream",
          "text": [
            "/usr/local/lib/python3.6/dist-packages/sklearn/linear_model/logistic.py:433: FutureWarning: Default solver will be changed to 'lbfgs' in 0.22. Specify a solver to silence this warning.\n",
            "  FutureWarning)\n",
            "/usr/local/lib/python3.6/dist-packages/sklearn/linear_model/logistic.py:460: FutureWarning: Default multi_class will be changed to 'auto' in 0.22. Specify the multi_class option to silence this warning.\n",
            "  \"this warning.\", FutureWarning)\n"
          ],
          "name": "stderr"
        },
        {
          "output_type": "stream",
          "text": [
            "                    pre       rec       spe        f1       geo       iba       sup\n",
            "\n",
            "     Butters       0.53      0.23      0.98      0.32      0.47      0.21       664\n",
            "     Cartman       0.42      0.72      0.61      0.54      0.67      0.45      2363\n",
            "        Chef       0.79      0.24      1.00      0.37      0.49      0.22       240\n",
            "       Kenny       0.75      0.06      1.00      0.11      0.25      0.05       248\n",
            "        Kyle       0.38      0.31      0.86      0.34      0.52      0.25      1753\n",
            "Mr. Garrison       0.71      0.13      1.00      0.22      0.36      0.12       244\n",
            "       Randy       0.60      0.14      0.99      0.23      0.38      0.13       631\n",
            "      Sharon       0.86      0.26      1.00      0.40      0.51      0.24       218\n",
            "        Stan       0.38      0.43      0.78      0.40      0.58      0.32      1960\n",
            "\n",
            " avg / total       0.47      0.42      0.81      0.39      0.55      0.30      8321\n",
            "\n"
          ],
          "name": "stdout"
        }
      ]
    },
    {
      "metadata": {
        "id": "hFRvI0BI_u_b",
        "colab_type": "text"
      },
      "cell_type": "markdown",
      "source": [
        "Пробуем поиграться с метриками"
      ]
    },
    {
      "metadata": {
        "id": "IGKcOFvea8Mm",
        "colab_type": "code",
        "outputId": "47527cc9-f132-4613-e5ac-1db9d8b538cd",
        "colab": {
          "base_uri": "https://localhost:8080/",
          "height": 349
        }
      },
      "cell_type": "code",
      "source": [
        "# пробуем прибавить больший вес миноритарным классам\n",
        "from sklearn.linear_model import LogisticRegression\n",
        "pipe = make_pipeline(TfidfVectorizer(), LogisticRegression(class_weight={'Kenny':45, 'Sharon':45, 'Mr. Garrison': 45}))\n",
        "pipe.fit(X_train, y_train)\n",
        "y_pred = pipe.predict(X_test)\n",
        "\n",
        "print(classification_report_imbalanced(y_test, y_pred))\n",
        "# У Кенни, Шэрон и Мистера Гаррисона действительно немного увеличилась полнота"
      ],
      "execution_count": 0,
      "outputs": [
        {
          "output_type": "stream",
          "text": [
            "/usr/local/lib/python3.6/dist-packages/sklearn/linear_model/logistic.py:433: FutureWarning: Default solver will be changed to 'lbfgs' in 0.22. Specify a solver to silence this warning.\n",
            "  FutureWarning)\n",
            "/usr/local/lib/python3.6/dist-packages/sklearn/linear_model/logistic.py:460: FutureWarning: Default multi_class will be changed to 'auto' in 0.22. Specify the multi_class option to silence this warning.\n",
            "  \"this warning.\", FutureWarning)\n"
          ],
          "name": "stderr"
        },
        {
          "output_type": "stream",
          "text": [
            "                    pre       rec       spe        f1       geo       iba       sup\n",
            "\n",
            "     Butters       0.73      0.11      1.00      0.20      0.34      0.10       664\n",
            "     Cartman       0.50      0.51      0.80      0.51      0.64      0.40      2363\n",
            "        Chef       0.81      0.07      1.00      0.13      0.27      0.06       240\n",
            "       Kenny       0.09      0.56      0.83      0.16      0.68      0.45       248\n",
            "        Kyle       0.44      0.21      0.93      0.29      0.45      0.18      1753\n",
            "Mr. Garrison       0.11      0.57      0.86      0.18      0.70      0.47       244\n",
            "       Randy       0.82      0.07      1.00      0.13      0.27      0.07       631\n",
            "      Sharon       0.13      0.56      0.90      0.20      0.71      0.48       218\n",
            "        Stan       0.44      0.25      0.90      0.32      0.47      0.21      1960\n",
            "\n",
            " avg / total       0.49      0.31      0.89      0.32      0.50      0.26      8321\n",
            "\n"
          ],
          "name": "stdout"
        }
      ]
    },
    {
      "metadata": {
        "id": "k80ZnGFhxWcF",
        "colab_type": "text"
      },
      "cell_type": "markdown",
      "source": [
        "Применяем RandomUnderSampler (случайно удаляем примеры из мажоритарных классов)"
      ]
    },
    {
      "metadata": {
        "id": "fJRVe7fUbfrq",
        "colab_type": "code",
        "outputId": "d36785e0-deac-4554-f2b9-2f579602977c",
        "colab": {
          "base_uri": "https://localhost:8080/",
          "height": 107
        }
      },
      "cell_type": "code",
      "source": [
        "from imblearn.under_sampling import RandomUnderSampler\n",
        "from imblearn.pipeline import make_pipeline as make_pipeline_imb\n",
        "pipe = make_pipeline_imb(TfidfVectorizer(),\n",
        "                         RandomUnderSampler(),\n",
        "                         LogisticRegression())\n",
        "\n",
        "pipe.fit(X_train, y_train)\n",
        "y_pred = pipe.predict(X_test)"
      ],
      "execution_count": 0,
      "outputs": [
        {
          "output_type": "stream",
          "text": [
            "/usr/local/lib/python3.6/dist-packages/sklearn/linear_model/logistic.py:433: FutureWarning: Default solver will be changed to 'lbfgs' in 0.22. Specify a solver to silence this warning.\n",
            "  FutureWarning)\n",
            "/usr/local/lib/python3.6/dist-packages/sklearn/linear_model/logistic.py:460: FutureWarning: Default multi_class will be changed to 'auto' in 0.22. Specify the multi_class option to silence this warning.\n",
            "  \"this warning.\", FutureWarning)\n"
          ],
          "name": "stderr"
        }
      ]
    },
    {
      "metadata": {
        "id": "a9ygeuR_bzIs",
        "colab_type": "code",
        "outputId": "1abf5fef-106e-4207-d46b-ee86d5ec45d8",
        "colab": {
          "base_uri": "https://localhost:8080/",
          "height": 260
        }
      },
      "cell_type": "code",
      "source": [
        "print(classification_report_imbalanced(y_test, y_pred))"
      ],
      "execution_count": 0,
      "outputs": [
        {
          "output_type": "stream",
          "text": [
            "                    pre       rec       spe        f1       geo       iba       sup\n",
            "\n",
            "     Butters       0.27      0.39      0.91      0.32      0.59      0.33       664\n",
            "     Cartman       0.49      0.28      0.88      0.36      0.50      0.24      2363\n",
            "        Chef       0.20      0.45      0.95      0.28      0.66      0.41       240\n",
            "       Kenny       0.11      0.49      0.87      0.17      0.65      0.41       248\n",
            "        Kyle       0.35      0.24      0.88      0.29      0.46      0.20      1753\n",
            "Mr. Garrison       0.14      0.40      0.93      0.21      0.61      0.35       244\n",
            "       Randy       0.24      0.30      0.92      0.27      0.53      0.26       631\n",
            "      Sharon       0.19      0.43      0.95      0.27      0.64      0.39       218\n",
            "        Stan       0.39      0.23      0.89      0.29      0.45      0.19      1960\n",
            "\n",
            " avg / total       0.36      0.29      0.89      0.30      0.51      0.24      8321\n",
            "\n"
          ],
          "name": "stdout"
        }
      ]
    },
    {
      "metadata": {
        "id": "vV06itZNf1qB",
        "colab_type": "code",
        "outputId": "503a4692-d2d9-4729-ff57-3ce3d5cd8b0e",
        "colab": {
          "base_uri": "https://localhost:8080/",
          "height": 35
        }
      },
      "cell_type": "code",
      "source": [
        "# пусть модель поугадывает\n",
        "new_text = [\"what's the meaning of life?', 'why are we here?\"]\n",
        "print (\"Это сказал\", pipe.predict(new_text))"
      ],
      "execution_count": 0,
      "outputs": [
        {
          "output_type": "stream",
          "text": [
            "Это сказал ['Chef']\n"
          ],
          "name": "stdout"
        }
      ]
    },
    {
      "metadata": {
        "id": "O4RGhIk2tEmW",
        "colab_type": "code",
        "colab": {}
      },
      "cell_type": "code",
      "source": [
        "# верно))"
      ],
      "execution_count": 0,
      "outputs": []
    },
    {
      "metadata": {
        "id": "3gsSPGXbBV9M",
        "colab_type": "text"
      },
      "cell_type": "markdown",
      "source": [
        "применяем RandomOverSampler (случайно дублируем примеры из миноритарных классов)"
      ]
    },
    {
      "metadata": {
        "id": "xNezHVuMb6RA",
        "colab_type": "code",
        "outputId": "e528b3f9-98de-41fa-ee86-ad4af099e7ba",
        "colab": {
          "base_uri": "https://localhost:8080/",
          "height": 349
        }
      },
      "cell_type": "code",
      "source": [
        "from imblearn.over_sampling import RandomOverSampler\n",
        "pipe = make_pipeline_imb(TfidfVectorizer(),\n",
        "                         RandomOverSampler(),\n",
        "                         LogisticRegression())\n",
        "\n",
        "pipe.fit(X_train, y_train)\n",
        "y_pred = pipe.predict(X_test)\n",
        "print(classification_report_imbalanced(y_test, y_pred))"
      ],
      "execution_count": 0,
      "outputs": [
        {
          "output_type": "stream",
          "text": [
            "/usr/local/lib/python3.6/dist-packages/sklearn/linear_model/logistic.py:433: FutureWarning: Default solver will be changed to 'lbfgs' in 0.22. Specify a solver to silence this warning.\n",
            "  FutureWarning)\n",
            "/usr/local/lib/python3.6/dist-packages/sklearn/linear_model/logistic.py:460: FutureWarning: Default multi_class will be changed to 'auto' in 0.22. Specify the multi_class option to silence this warning.\n",
            "  \"this warning.\", FutureWarning)\n"
          ],
          "name": "stderr"
        },
        {
          "output_type": "stream",
          "text": [
            "                    pre       rec       spe        f1       geo       iba       sup\n",
            "\n",
            "     Butters       0.35      0.45      0.93      0.39      0.65      0.40       664\n",
            "     Cartman       0.56      0.42      0.87      0.48      0.60      0.35      2363\n",
            "        Chef       0.22      0.47      0.95      0.30      0.67      0.43       240\n",
            "       Kenny       0.12      0.46      0.90      0.20      0.64      0.40       248\n",
            "        Kyle       0.40      0.29      0.88      0.33      0.50      0.24      1753\n",
            "Mr. Garrison       0.21      0.43      0.95      0.28      0.64      0.38       244\n",
            "       Randy       0.29      0.35      0.93      0.32      0.57      0.30       631\n",
            "      Sharon       0.22      0.44      0.96      0.29      0.65      0.40       218\n",
            "        Stan       0.44      0.29      0.89      0.35      0.51      0.24      1960\n",
            "\n",
            " avg / total       0.42      0.36      0.89      0.38      0.57      0.31      8321\n",
            "\n"
          ],
          "name": "stdout"
        }
      ]
    },
    {
      "metadata": {
        "id": "qxaTbMm6tmSl",
        "colab_type": "code",
        "outputId": "332524f9-bbdf-4fbb-8abe-99d167d83cb1",
        "colab": {
          "base_uri": "https://localhost:8080/",
          "height": 35
        }
      },
      "cell_type": "code",
      "source": [
        "new_text = [\"ooooh, that's exciting, my mother was from Alabama.\"]\n",
        "print (\"Это сказал\", pipe.predict(new_text))"
      ],
      "execution_count": 0,
      "outputs": [
        {
          "output_type": "stream",
          "text": [
            "Это сказал ['Mr. Garrison']\n"
          ],
          "name": "stdout"
        }
      ]
    },
    {
      "metadata": {
        "id": "Y_JylErxud2J",
        "colab_type": "code",
        "colab": {}
      },
      "cell_type": "code",
      "source": [
        "# тоже угадал!))"
      ],
      "execution_count": 0,
      "outputs": []
    },
    {
      "metadata": {
        "id": "cjzSOWTwfHGN",
        "colab_type": "text"
      },
      "cell_type": "markdown",
      "source": [
        "метод SMOTE основан на идее генерации некоторого количества искусственных примеров, которые были бы «похожи» на имеющиеся в меньшем классе, но при этом не дублировали их."
      ]
    },
    {
      "metadata": {
        "id": "7Js1imA0f0vg",
        "colab_type": "code",
        "outputId": "ee22c777-bf1d-434c-b31e-c5dc4f05b9c7",
        "colab": {
          "base_uri": "https://localhost:8080/",
          "height": 349
        }
      },
      "cell_type": "code",
      "source": [
        "from imblearn.over_sampling import SMOTE\n",
        "pipe = make_pipeline_imb(TfidfVectorizer(),\n",
        "                         SMOTE(),\n",
        "                         LogisticRegression())\n",
        "\n",
        "pipe.fit(X_train, y_train)\n",
        "y_pred = pipe.predict(X_test)\n",
        "print(classification_report_imbalanced(y_test, y_pred))\n",
        "# тоже классно повышает качество"
      ],
      "execution_count": 0,
      "outputs": [
        {
          "output_type": "stream",
          "text": [
            "/usr/local/lib/python3.6/dist-packages/sklearn/linear_model/logistic.py:433: FutureWarning: Default solver will be changed to 'lbfgs' in 0.22. Specify a solver to silence this warning.\n",
            "  FutureWarning)\n",
            "/usr/local/lib/python3.6/dist-packages/sklearn/linear_model/logistic.py:460: FutureWarning: Default multi_class will be changed to 'auto' in 0.22. Specify the multi_class option to silence this warning.\n",
            "  \"this warning.\", FutureWarning)\n"
          ],
          "name": "stderr"
        },
        {
          "output_type": "stream",
          "text": [
            "                    pre       rec       spe        f1       geo       iba       sup\n",
            "\n",
            "     Butters       0.32      0.42      0.92      0.37      0.62      0.37       664\n",
            "     Cartman       0.56      0.43      0.87      0.49      0.61      0.36      2363\n",
            "        Chef       0.22      0.45      0.95      0.30      0.65      0.41       240\n",
            "       Kenny       0.13      0.44      0.91      0.20      0.63      0.38       248\n",
            "        Kyle       0.39      0.28      0.89      0.33      0.50      0.23      1753\n",
            "Mr. Garrison       0.20      0.43      0.95      0.27      0.64      0.38       244\n",
            "       Randy       0.27      0.34      0.92      0.30      0.56      0.30       631\n",
            "      Sharon       0.24      0.44      0.96      0.31      0.65      0.40       218\n",
            "        Stan       0.40      0.27      0.88      0.33      0.49      0.22      1960\n",
            "\n",
            " avg / total       0.41      0.36      0.89      0.37      0.56      0.30      8321\n",
            "\n"
          ],
          "name": "stdout"
        }
      ]
    },
    {
      "metadata": {
        "id": "egL3S7ezuwEF",
        "colab_type": "code",
        "outputId": "45237f87-c51b-4150-de25-54a07e23d8db",
        "colab": {
          "base_uri": "https://localhost:8080/",
          "height": 35
        }
      },
      "cell_type": "code",
      "source": [
        "new_text = [\"whoa-ho-ho-ho! great shot, pip!\"]\n",
        "print (\"Это сказал\", pipe.predict(new_text))"
      ],
      "execution_count": 0,
      "outputs": [
        {
          "output_type": "stream",
          "text": [
            "Это сказал ['Chef']\n"
          ],
          "name": "stdout"
        }
      ]
    }
  ]
}